{
 "cells": [
  {
   "cell_type": "markdown",
   "id": "84bf8106-3948-4013-99d2-39b49a4a741e",
   "metadata": {},
   "source": [
    "# Synthetic Dataset Generation for Indian Plant Recommendations\n",
    "\n",
    "This notebook generates a synthetic dataset with air quality features (adjusted for Indian conditions) and soil nutrient features tailored for five common Indian plants:\n",
    "- Mango\n",
    "- Neem\n",
    "- Jamun\n",
    "- Amla\n",
    "- Drumstick (Moringa oleifera)\n",
    "\n",
    "The dataset is saved as `synthetic_combined_dataset_india_plants.csv`."
   ]
  },
  {
   "cell_type": "code",
   "execution_count": 1,
   "id": "c4ab1fa4-91d7-4316-93f7-d5e1d2852bad",
   "metadata": {},
   "outputs": [],
   "source": [
    "import numpy as np\n",
    "import pandas as pd"
   ]
  },
  {
   "cell_type": "code",
   "execution_count": 2,
   "id": "db15fb94-16d0-442a-8d23-c2f92b15f212",
   "metadata": {},
   "outputs": [],
   "source": [
    "np.random.seed(42)\n",
    "n_per_class = 2000\n",
    "plant_classes = ['Mango', 'Neem', 'Jamun', 'Amla', 'Drumstick']"
   ]
  },
  {
   "cell_type": "code",
   "execution_count": 3,
   "id": "f3473157-86d1-4b69-a06f-717db76370d8",
   "metadata": {},
   "outputs": [],
   "source": [
    "ranges = {\n",
    "    'AQI': (0, 500),\n",
    "    'CO2_Level_ppm': (350, 500),\n",
    "    'NO2_Level_ppm': (0, 50),\n",
    "    'PM2_5_ug_m3': (0, 200),\n",
    "    'PM10_ug_m3': (0, 300),\n",
    "    'pH_Level': (4.0, 9.0),\n",
    "    'Nitrogen_mg_kg': (0, 200),\n",
    "    'Phosphorus_mg_kg': (0, 100),\n",
    "    'Potassium_mg_kg': (0, 100),\n",
    "    'Moisture_Level_%': (0, 100),\n",
    "    'Organic_Matter_%': (0, 10),\n",
    "    'Plot_Area_m2': (10, 1000)\n",
    "}"
   ]
  },
  {
   "cell_type": "code",
   "execution_count": 4,
   "id": "ce6e7d93-2aeb-4a81-8233-78ab750f48a4",
   "metadata": {},
   "outputs": [],
   "source": [
    "air_quality_means = {\n",
    "    'AQI': 100,\n",
    "    'CO2_Level_ppm': 415,\n",
    "    'NO2_Level_ppm': 12,\n",
    "    'PM2_5_ug_m3': 54.4,\n",
    "    'PM10_ug_m3': 116\n",
    "}\n",
    "air_quality_std = {\n",
    "    'AQI': 20,\n",
    "    'CO2_Level_ppm': 10,\n",
    "    'NO2_Level_ppm': 3,\n",
    "    'PM2_5_ug_m3': 5,\n",
    "    'PM10_ug_m3': 5\n",
    "}"
   ]
  },
  {
   "cell_type": "code",
   "execution_count": 5,
   "id": "605f8cbf-5e8d-4d08-b0d3-31fca909c829",
   "metadata": {},
   "outputs": [],
   "source": [
    "def generate_feature(mean, std, size, feature_name):\n",
    "    samples = np.random.normal(mean, std, size)\n",
    "    min_val, max_val = ranges[feature_name]\n",
    "    return np.clip(samples, min_val, max_val).round(2)"
   ]
  },
  {
   "cell_type": "code",
   "execution_count": 6,
   "id": "1856503d-eb44-48a1-9e2f-46c69192d567",
   "metadata": {},
   "outputs": [],
   "source": [
    "plant_params = {\n",
    "    'Mango': {\n",
    "        'pH_Level': (6.8, 0.3),\n",
    "        'Nitrogen_mg_kg': (100, 10),\n",
    "        'Phosphorus_mg_kg': (50, 5),\n",
    "        'Potassium_mg_kg': (80, 5),\n",
    "        'Moisture_Level_%': (55, 5),\n",
    "        'Organic_Matter_%': (3.0, 0.5),\n",
    "        'Plot_Area_m2': (500, 50)\n",
    "    },\n",
    "    'Neem': {\n",
    "        'pH_Level': (7.0, 0.3),\n",
    "        'Nitrogen_mg_kg': (70, 8),\n",
    "        'Phosphorus_mg_kg': (40, 5),\n",
    "        'Potassium_mg_kg': (40, 5),\n",
    "        'Moisture_Level_%': (40, 5),\n",
    "        'Organic_Matter_%': (2.0, 0.3),\n",
    "        'Plot_Area_m2': (300, 30)\n",
    "    },\n",
    "    'Jamun': {\n",
    "        'pH_Level': (6.5, 0.3),\n",
    "        'Nitrogen_mg_kg': (90, 8),\n",
    "        'Phosphorus_mg_kg': (60, 5),\n",
    "        'Potassium_mg_kg': (60, 5),\n",
    "        'Moisture_Level_%': (60, 5),\n",
    "        'Organic_Matter_%': (3.5, 0.5),\n",
    "        'Plot_Area_m2': (400, 40)\n",
    "    },\n",
    "    'Amla': {\n",
    "        'pH_Level': (7.0, 0.3),\n",
    "        'Nitrogen_mg_kg': (80, 8),\n",
    "        'Phosphorus_mg_kg': (55, 5),\n",
    "        'Potassium_mg_kg': (65, 5),\n",
    "        'Moisture_Level_%': (50, 5),\n",
    "        'Organic_Matter_%': (3.0, 0.5),\n",
    "        'Plot_Area_m2': (350, 40)\n",
    "    },\n",
    "    'Drumstick': {\n",
    "        'pH_Level': (6.2, 0.3),\n",
    "        'Nitrogen_mg_kg': (60, 8),\n",
    "        'Phosphorus_mg_kg': (45, 5),\n",
    "        'Potassium_mg_kg': (55, 5),\n",
    "        'Moisture_Level_%': (45, 5),\n",
    "        'Organic_Matter_%': (2.5, 0.5),\n",
    "        'Plot_Area_m2': (200, 20)\n",
    "    }\n",
    "}"
   ]
  },
  {
   "cell_type": "code",
   "execution_count": 7,
   "id": "b82794a5-7e90-41f1-98e3-1bd370bf9245",
   "metadata": {},
   "outputs": [],
   "source": [
    "data_list = []\n",
    "for plant in plant_classes:\n",
    "    aq_features = {feat: generate_feature(air_quality_means[feat], air_quality_std[feat], n_per_class, feat)\n",
    "                   for feat in air_quality_means}\n",
    "    soil_features = {feat: generate_feature(*plant_params[plant][feat], n_per_class, feat)\n",
    "                     for feat in plant_params[plant]}\n",
    "    df = pd.DataFrame({**aq_features, **soil_features})\n",
    "    df['Plant_Type'] = plant\n",
    "    data_list.append(df)"
   ]
  },
  {
   "cell_type": "code",
   "execution_count": 8,
   "id": "22f295e4-1bf3-4628-a0df-f15683911bd8",
   "metadata": {},
   "outputs": [],
   "source": [
    "synthetic_data = pd.concat(data_list, ignore_index=True)\n",
    "synthetic_data = synthetic_data.sample(frac=1, random_state=42).reset_index(drop=True)\n",
    "synthetic_data.to_csv('synthetic_combined_dataset_india_plants.csv', index=False)"
   ]
  },
  {
   "cell_type": "code",
   "execution_count": 9,
   "id": "c16f097d-28f6-497e-9c8c-8c1689ff9a42",
   "metadata": {},
   "outputs": [
    {
     "name": "stdout",
     "output_type": "stream",
     "text": [
      "Dataset generated and saved as 'synthetic_combined_dataset_india_plants.csv'\n",
      "\n",
      "Plant Type Distribution:\n",
      "Plant_Type\n",
      "Amla         2000\n",
      "Jamun        2000\n",
      "Mango        2000\n",
      "Neem         2000\n",
      "Drumstick    2000\n",
      "Name: count, dtype: int64\n",
      "\n",
      "Sample Data:\n",
      "      AQI  CO2_Level_ppm  NO2_Level_ppm  PM2_5_ug_m3  PM10_ug_m3  pH_Level  \\\n",
      "0  109.52         410.04          14.42        57.37      110.74      6.27   \n",
      "1   96.27         415.37          13.37        55.77      119.11      6.87   \n",
      "2   93.01         406.72          12.13        55.62      121.78      7.53   \n",
      "3  129.31         412.50          11.86        54.48      118.54      6.30   \n",
      "4   76.19         411.25          10.61        52.21      116.01      6.52   \n",
      "\n",
      "   Nitrogen_mg_kg  Phosphorus_mg_kg  Potassium_mg_kg  Moisture_Level_%  \\\n",
      "0           75.82             51.63            67.70             58.26   \n",
      "1           93.74             56.60            62.01             58.04   \n",
      "2           99.48             43.02            68.70             55.10   \n",
      "3           85.16             57.40            53.63             52.48   \n",
      "4           85.31             65.22            60.16             61.12   \n",
      "\n",
      "   Organic_Matter_%  Plot_Area_m2 Plant_Type  \n",
      "0              2.65        385.83       Amla  \n",
      "1              3.40        334.65      Jamun  \n",
      "2              3.86        466.16      Mango  \n",
      "3              3.03        357.23      Jamun  \n",
      "4              3.59        412.44      Jamun  \n"
     ]
    }
   ],
   "source": [
    "print(\"Dataset generated and saved as 'synthetic_combined_dataset_india_plants.csv'\")\n",
    "print(\"\\nPlant Type Distribution:\")\n",
    "print(synthetic_data['Plant_Type'].value_counts())\n",
    "print(\"\\nSample Data:\")\n",
    "print(synthetic_data.head())"
   ]
  }
 ],
 "metadata": {
  "kernelspec": {
   "display_name": "Python 3 (ipykernel)",
   "language": "python",
   "name": "python3"
  },
  "language_info": {
   "codemirror_mode": {
    "name": "ipython",
    "version": 3
   },
   "file_extension": ".py",
   "mimetype": "text/x-python",
   "name": "python",
   "nbconvert_exporter": "python",
   "pygments_lexer": "ipython3",
   "version": "3.13.1"
  }
 },
 "nbformat": 4,
 "nbformat_minor": 5
}
