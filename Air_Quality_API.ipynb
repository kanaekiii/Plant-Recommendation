{
 "cells": [
  {
   "cell_type": "code",
   "execution_count": null,
   "id": "59a3fe64-aedc-4bb1-b4aa-387d9d7af360",
   "metadata": {},
   "outputs": [
    {
     "name": "stdout",
     "output_type": "stream",
     "text": [
      "AQI: 94\n",
      "PM2.5: 94\n",
      "PM10: 53\n",
      "NO2: 11.3\n",
      "CO: 4.6\n",
      "Temperature: 28 °C\n",
      "Measurement Time: 2025-04-01 18:00:00\n"
     ]
    }
   ],
   "source": [
    "import requests\n",
    "\n",
    "TOKEN = \"be435989d42640ef15e2cb9c6281fdf2539f0b9e\"  \n",
    "CITY = \"chennai\"\n",
    "lat = 12.895\n",
    "lon = 80.151\n",
    "\n",
    "# URL = f\"http://api.waqi.info/feed/{CITY}/?token={TOKEN}\"\n",
    "# URL = f\"http://api.waqi.info/feed/geo:{lat};{lon}/?token={TOKEN}\"\n",
    "URL = f\"http://api.waqi.info/feed/here/?token={TOKEN}\"\n",
    "response = requests.get(URL)\n",
    "\n",
    "if response.status_code == 200:\n",
    "    data = response.json()\n",
    "    if data.get(\"status\") == \"ok\":\n",
    "        station_data = data.get(\"data\", {})\n",
    "        \n",
    "        # Extracting values\n",
    "        aqi = station_data.get(\"aqi\")\n",
    "        time_data = station_data.get(\"time\", {})\n",
    "        measurement_time = time_data.get(\"s\")\n",
    "\n",
    "        iaqi = station_data.get(\"iaqi\", {})\n",
    "        pm25 = iaqi.get(\"pm25\", {}).get(\"v\")\n",
    "        pm10 = iaqi.get(\"pm10\", {}).get(\"v\")\n",
    "        no2 = iaqi.get(\"no2\", {}).get(\"v\")\n",
    "        co = iaqi.get(\"co\", {}).get(\"v\")\n",
    "        temp = iaqi.get(\"t\", {}).get(\"v\") \n",
    "\n",
    "        scaling_factor = 6.0\n",
    "\n",
    "        # Print output\n",
    "        print(f\"AQI: {aqi}\")\n",
    "        print(f\"PM2.5: {pm25}\")\n",
    "        print(f\"PM10: {pm10}\")\n",
    "        print(f\"NO2: {no2}\")\n",
    "        print(f\"CO: {co}\")\n",
    "        print(f\"Temperature: {temp} °C\")\n",
    "        print(f\"Measurement Time: {measurement_time}\")\n",
    "\n",
    "    else:\n",
    "        \n",
    "        print(\"Error from API:\", data.get(\"message\"))\n",
    "else:\n",
    "    print(\"HTTP Error:\", response.status_code)\n"
   ]
  }
 ],
 "metadata": {
  "kernelspec": {
   "display_name": "Python 3",
   "language": "python",
   "name": "python3"
  },
  "language_info": {
   "codemirror_mode": {
    "name": "ipython",
    "version": 3
   },
   "file_extension": ".py",
   "mimetype": "text/x-python",
   "name": "python",
   "nbconvert_exporter": "python",
   "pygments_lexer": "ipython3",
   "version": "3.12.3"
  }
 },
 "nbformat": 4,
 "nbformat_minor": 5
}
