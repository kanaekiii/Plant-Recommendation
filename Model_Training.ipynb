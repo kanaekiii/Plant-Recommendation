{
 "cells": [
  {
   "cell_type": "markdown",
   "id": "c2cd9db1-93ca-4006-bcf4-48648808fd2c",
   "metadata": {},
   "source": [
    "# Plant Recommendation Using KNN Classifier\n",
    "\n",
    "This notebook loads a balanced synthetic dataset, preprocesses the data, performs hyperparameter tuning with GridSearchCV and cross-validation for a KNN classifier, and saves the trained model. It then loads the saved model and tests it with a sample sensor reading."
   ]
  },
  {
   "cell_type": "code",
   "execution_count": 4,
   "id": "2a1e62bd-d4db-4cc5-8c85-c98efe2428cf",
   "metadata": {},
   "outputs": [],
   "source": [
    "import numpy as np\n",
    "import pandas as pd\n",
    "from sklearn.model_selection import train_test_split, GridSearchCV, cross_val_score\n",
    "from sklearn.preprocessing import StandardScaler, LabelEncoder\n",
    "from sklearn.neighbors import KNeighborsClassifier\n",
    "from sklearn.metrics import classification_report, accuracy_score\n",
    "import joblib"
   ]
  },
  {
   "cell_type": "markdown",
   "id": "7a351315-5f58-4720-9c17-df3e6347d75c",
   "metadata": {},
   "source": [
    "## Data Loading and Preprocessing\n",
    "\n",
    "The dataset is loaded from `synthetic_combined_dataset_balanced.csv`. Features are scaled and target labels are encoded."
   ]
  },
  {
   "cell_type": "code",
   "execution_count": 2,
   "id": "6b2123df-e5b0-49e2-b4df-430f53248bc1",
   "metadata": {},
   "outputs": [],
   "source": [
    "data = pd.read_csv('synthetic_combined_dataset_india_plants.csv')\n",
    "X = data.drop('Plant_Type', axis=1)\n",
    "y = data['Plant_Type']\n",
    "\n",
    "scaler = StandardScaler()\n",
    "X_scaled = scaler.fit_transform(X)\n",
    "\n",
    "le = LabelEncoder()\n",
    "y_encoded = le.fit_transform(y)\n",
    "\n",
    "X_train, X_test, y_train, y_test = train_test_split(X_scaled, y_encoded, test_size=0.2, random_state=42)"
   ]
  },
  {
   "cell_type": "markdown",
   "id": "c67d50ea-a352-4344-b877-1e1b8a0de50d",
   "metadata": {},
   "source": [
    "## Hyperparameter Tuning and Model Training\n",
    "\n",
    "A KNN classifier is tuned using GridSearchCV with 5-fold cross-validation."
   ]
  },
  {
   "cell_type": "code",
   "execution_count": 5,
   "id": "37c2ef08-e71c-4d44-a0ed-4a1f723b820a",
   "metadata": {},
   "outputs": [
    {
     "name": "stdout",
     "output_type": "stream",
     "text": [
      "Best parameters found: {'n_neighbors': 11, 'weights': 'distance'}\n"
     ]
    }
   ],
   "source": [
    "knn = KNeighborsClassifier()\n",
    "param_grid = {'n_neighbors': [3, 5, 7, 9, 11], 'weights': ['uniform', 'distance']}\n",
    "grid_search = GridSearchCV(knn, param_grid, cv=5, scoring='accuracy')\n",
    "grid_search.fit(X_train, y_train)\n",
    "print(\"Best parameters found:\", grid_search.best_params_)\n",
    "best_knn = grid_search.best_estimator_"
   ]
  },
  {
   "cell_type": "markdown",
   "id": "1d1f2334-2a06-4122-8ab6-2a8a909e1694",
   "metadata": {},
   "source": [
    "## Cross-Validation and Test Evaluation"
   ]
  },
  {
   "cell_type": "code",
   "execution_count": 6,
   "id": "d7bd8d2f-ffe9-4d05-98c7-6d3d47d8b80e",
   "metadata": {},
   "outputs": [
    {
     "name": "stdout",
     "output_type": "stream",
     "text": [
      "Cross-validation scores: [0.9685 0.971  0.975  0.9715 0.9745]\n",
      "Mean CV Accuracy: 0.972\n",
      "Test Accuracy: 0.970\n",
      "\n",
      "Classification Report:\n",
      "              precision    recall  f1-score   support\n",
      "\n",
      "        Amla       0.93      0.94      0.93       399\n",
      "   Drumstick       0.99      0.99      0.99       416\n",
      "       Jamun       0.95      0.94      0.94       377\n",
      "       Mango       0.99      0.98      0.99       399\n",
      "        Neem       0.99      0.99      0.99       409\n",
      "\n",
      "    accuracy                           0.97      2000\n",
      "   macro avg       0.97      0.97      0.97      2000\n",
      "weighted avg       0.97      0.97      0.97      2000\n",
      "\n"
     ]
    }
   ],
   "source": [
    "cv_scores = cross_val_score(best_knn, X_scaled, y_encoded, cv=5, scoring='accuracy')\n",
    "print(\"Cross-validation scores:\", cv_scores)\n",
    "print(\"Mean CV Accuracy: {:.3f}\".format(cv_scores.mean()))\n",
    "y_pred = best_knn.predict(X_test)\n",
    "print(\"Test Accuracy: {:.3f}\".format(accuracy_score(y_test, y_pred)))\n",
    "print(\"\\nClassification Report:\")\n",
    "print(classification_report(y_test, y_pred, target_names=le.classes_))"
   ]
  },
  {
   "cell_type": "markdown",
   "id": "b0931739-ed89-4d2d-bdd1-38d2f2cbfc23",
   "metadata": {},
   "source": [
    "## Save the Model and Preprocessors"
   ]
  },
  {
   "cell_type": "code",
   "execution_count": 7,
   "id": "5ac65327-8625-4227-a81e-7c13288e3a11",
   "metadata": {},
   "outputs": [
    {
     "name": "stdout",
     "output_type": "stream",
     "text": [
      "Model and preprocessors saved.\n"
     ]
    }
   ],
   "source": [
    "joblib.dump(best_knn, 'knn_plant_identifier.pkl')\n",
    "joblib.dump(scaler, 'scaler_knn.pkl')\n",
    "joblib.dump(le, 'label_encoder_knn.pkl')\n",
    "print(\"Model and preprocessors saved.\")"
   ]
  },
  {
   "cell_type": "markdown",
   "id": "98de664b-a85c-472c-9ee3-fe5795badb40",
   "metadata": {},
   "source": [
    "## Model Testing with a Sample Input\n",
    "\n",
    "The following cell loads the saved model and tests it with a sample sensor reading. The features (in order) are:\n",
    "- AQI, CO2_Level_ppm, NO2_Level_ppm, PM2_5_ug_m3, PM10_ug_m3, VOC_Level_ppm,\n",
    "- pH_Level, Nitrogen_mg_kg, Phosphorus_mg_kg, Potassium_mg_kg, Moisture_Level_%, Organic_Matter_%, Plot_Area_m2."
   ]
  },
  {
   "cell_type": "code",
   "execution_count": 9,
   "id": "25085ded-1358-455b-b73f-7330a36d5bd9",
   "metadata": {},
   "outputs": [],
   "source": [
    "knn = joblib.load('knn_plant_identifier.pkl')\n",
    "scaler = joblib.load('scaler_knn.pkl')\n",
    "le = joblib.load('label_encoder_knn.pkl')"
   ]
  },
  {
   "cell_type": "code",
   "execution_count": 10,
   "id": "5be267b8-f472-4f86-a0dd-24478d217102",
   "metadata": {},
   "outputs": [],
   "source": [
    "test_samples = np.array([\n",
    "    [100, 415, 12, 54.4, 116, 4, 6.8, 100, 50, 80, 55, 3.0, 500],\n",
    "    [90, 410, 10, 55, 115, 3.8, 7.0, 70, 40, 40, 40, 2.0, 300],\n",
    "    [110, 420, 14, 53, 118, 4.2, 6.5, 90, 60, 60, 60, 3.5, 400],\n",
    "    [95, 415, 12, 54, 116, 4, 7.0, 80, 55, 65, 50, 3.0, 350],\n",
    "    [105, 412, 13, 56, 117, 4.1, 6.2, 60, 45, 55, 45, 2.5, 200]\n",
    "])"
   ]
  },
  {
   "cell_type": "code",
   "execution_count": 11,
   "id": "3c3b3f9a-f953-4f94-bbf6-933aa93abfa3",
   "metadata": {},
   "outputs": [
    {
     "name": "stdout",
     "output_type": "stream",
     "text": [
      "Test Sample 1: Recommended Plant Type: Mango\n",
      "Test Sample 2: Recommended Plant Type: Neem\n",
      "Test Sample 3: Recommended Plant Type: Jamun\n",
      "Test Sample 4: Recommended Plant Type: Amla\n",
      "Test Sample 5: Recommended Plant Type: Drumstick\n"
     ]
    },
    {
     "name": "stderr",
     "output_type": "stream",
     "text": [
      "C:\\Tools\\Python\\Python313\\Lib\\site-packages\\sklearn\\utils\\validation.py:2739: UserWarning: X does not have valid feature names, but StandardScaler was fitted with feature names\n",
      "  warnings.warn(\n"
     ]
    }
   ],
   "source": [
    "test_samples_scaled = scaler.transform(test_samples)\n",
    "preds = knn.predict(test_samples_scaled)\n",
    "predicted_plants = le.inverse_transform(preds)\n",
    "\n",
    "for i, plant in enumerate(predicted_plants, start=1):\n",
    "    print(f\"Test Sample {i}: Recommended Plant Type: {plant}\")"
   ]
  }
 ],
 "metadata": {
  "kernelspec": {
   "display_name": "Python 3 (ipykernel)",
   "language": "python",
   "name": "python3"
  },
  "language_info": {
   "codemirror_mode": {
    "name": "ipython",
    "version": 3
   },
   "file_extension": ".py",
   "mimetype": "text/x-python",
   "name": "python",
   "nbconvert_exporter": "python",
   "pygments_lexer": "ipython3",
   "version": "3.13.1"
  }
 },
 "nbformat": 4,
 "nbformat_minor": 5
}
