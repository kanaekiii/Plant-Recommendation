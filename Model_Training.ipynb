{
 "cells": [
  {
   "cell_type": "markdown",
   "id": "c2cd9db1-93ca-4006-bcf4-48648808fd2c",
   "metadata": {},
   "source": [
    "# Plant Recommendation Using KNN Classifier\n",
    "\n",
    "This notebook loads a balanced synthetic dataset, preprocesses the data, performs hyperparameter tuning with GridSearchCV and cross-validation for a KNN classifier, and saves the trained model. It then loads the saved model and tests it with a sample sensor reading."
   ]
  },
  {
   "cell_type": "code",
   "execution_count": 1,
   "id": "2a1e62bd-d4db-4cc5-8c85-c98efe2428cf",
   "metadata": {},
   "outputs": [],
   "source": [
    "import numpy as np\n",
    "import pandas as pd\n",
    "from sklearn.model_selection import train_test_split, GridSearchCV, cross_val_score\n",
    "from sklearn.preprocessing import StandardScaler, LabelEncoder\n",
    "from sklearn.neighbors import KNeighborsClassifier\n",
    "from sklearn.metrics import classification_report, accuracy_score\n",
    "import joblib"
   ]
  },
  {
   "cell_type": "markdown",
   "id": "7a351315-5f58-4720-9c17-df3e6347d75c",
   "metadata": {},
   "source": [
    "## Data Loading and Preprocessing\n",
    "\n",
    "The dataset is loaded from `synthetic_combined_dataset_balanced.csv`. Features are scaled and target labels are encoded."
   ]
  },
  {
   "cell_type": "code",
   "execution_count": 2,
   "id": "6b2123df-e5b0-49e2-b4df-430f53248bc1",
   "metadata": {},
   "outputs": [],
   "source": [
    "data = pd.read_csv('synthetic_combined_dataset_balanced.csv')\n",
    "X = data.drop('Plant_Type', axis=1)\n",
    "y = data['Plant_Type']\n",
    "scaler = StandardScaler()\n",
    "X_scaled = scaler.fit_transform(X)\n",
    "le = LabelEncoder()\n",
    "y_encoded = le.fit_transform(y)\n",
    "X_train, X_test, y_train, y_test = train_test_split(X_scaled, y_encoded, test_size=0.2, random_state=42)"
   ]
  },
  {
   "cell_type": "markdown",
   "id": "c67d50ea-a352-4344-b877-1e1b8a0de50d",
   "metadata": {},
   "source": [
    "## Hyperparameter Tuning and Model Training\n",
    "\n",
    "A KNN classifier is tuned using GridSearchCV with 5-fold cross-validation."
   ]
  },
  {
   "cell_type": "code",
   "execution_count": 3,
   "id": "37c2ef08-e71c-4d44-a0ed-4a1f723b820a",
   "metadata": {},
   "outputs": [
    {
     "name": "stdout",
     "output_type": "stream",
     "text": [
      "Best parameters found: {'n_neighbors': 5, 'weights': 'uniform'}\n"
     ]
    }
   ],
   "source": [
    "knn = KNeighborsClassifier()\n",
    "param_grid = {'n_neighbors': [3, 5, 7, 9, 11], 'weights': ['uniform', 'distance']}\n",
    "grid_search = GridSearchCV(knn, param_grid, cv=5, scoring='accuracy')\n",
    "grid_search.fit(X_train, y_train)\n",
    "print(\"Best parameters found:\", grid_search.best_params_)\n",
    "best_knn = grid_search.best_estimator_"
   ]
  },
  {
   "cell_type": "markdown",
   "id": "1d1f2334-2a06-4122-8ab6-2a8a909e1694",
   "metadata": {},
   "source": [
    "## Cross-Validation and Test Evaluation"
   ]
  },
  {
   "cell_type": "code",
   "execution_count": 4,
   "id": "d7bd8d2f-ffe9-4d05-98c7-6d3d47d8b80e",
   "metadata": {},
   "outputs": [
    {
     "name": "stdout",
     "output_type": "stream",
     "text": [
      "Cross-validation scores: [1. 1. 1. 1. 1.]\n",
      "Mean CV Accuracy: 1.000\n",
      "Test Accuracy: 1.000\n",
      "\n",
      "Classification Report:\n",
      "              precision    recall  f1-score   support\n",
      "\n",
      "      Bonsai       1.00      1.00      1.00       389\n",
      "       Ficus       1.00      1.00      1.00       411\n",
      "      Orchid       1.00      1.00      1.00       385\n",
      "   Succulent       1.00      1.00      1.00       415\n",
      "\n",
      "    accuracy                           1.00      1600\n",
      "   macro avg       1.00      1.00      1.00      1600\n",
      "weighted avg       1.00      1.00      1.00      1600\n",
      "\n"
     ]
    }
   ],
   "source": [
    "cv_scores = cross_val_score(best_knn, X_scaled, y_encoded, cv=5, scoring='accuracy')\n",
    "print(\"Cross-validation scores:\", cv_scores)\n",
    "print(\"Mean CV Accuracy: {:.3f}\".format(cv_scores.mean()))\n",
    "y_pred = best_knn.predict(X_test)\n",
    "print(\"Test Accuracy: {:.3f}\".format(accuracy_score(y_test, y_pred)))\n",
    "print(\"\\nClassification Report:\")\n",
    "print(classification_report(y_test, y_pred, target_names=le.classes_))"
   ]
  },
  {
   "cell_type": "markdown",
   "id": "b0931739-ed89-4d2d-bdd1-38d2f2cbfc23",
   "metadata": {},
   "source": [
    "## Save the Model and Preprocessors"
   ]
  },
  {
   "cell_type": "code",
   "execution_count": 5,
   "id": "5ac65327-8625-4227-a81e-7c13288e3a11",
   "metadata": {},
   "outputs": [
    {
     "name": "stdout",
     "output_type": "stream",
     "text": [
      "Model and preprocessors saved.\n"
     ]
    }
   ],
   "source": [
    "joblib.dump(best_knn, 'knn_plant_identifier.pkl')\n",
    "joblib.dump(scaler, 'scaler_knn.pkl')\n",
    "joblib.dump(le, 'label_encoder_knn.pkl')\n",
    "print(\"Model and preprocessors saved.\")"
   ]
  },
  {
   "cell_type": "markdown",
   "id": "98de664b-a85c-472c-9ee3-fe5795badb40",
   "metadata": {},
   "source": [
    "## Model Testing with a Sample Input\n",
    "\n",
    "The following cell loads the saved model and tests it with a sample sensor reading. The features (in order) are:\n",
    "- AQI, CO2_Level_ppm, NO2_Level_ppm, PM2_5_ug_m3, PM10_ug_m3, VOC_Level_ppm,\n",
    "- pH_Level, Nitrogen_mg_kg, Phosphorus_mg_kg, Potassium_mg_kg, Moisture_Level_%, Organic_Matter_%, Plot_Area_m2."
   ]
  },
  {
   "cell_type": "code",
   "execution_count": 6,
   "id": "25085ded-1358-455b-b73f-7330a36d5bd9",
   "metadata": {},
   "outputs": [
    {
     "name": "stdout",
     "output_type": "stream",
     "text": [
      "Test Sample Prediction: Bonsai\n"
     ]
    },
    {
     "name": "stderr",
     "output_type": "stream",
     "text": [
      "C:\\Tools\\Python\\Python313\\Lib\\site-packages\\sklearn\\utils\\validation.py:2739: UserWarning: X does not have valid feature names, but StandardScaler was fitted with feature names\n",
      "  warnings.warn(\n"
     ]
    }
   ],
   "source": [
    "knn = joblib.load('knn_plant_identifier.pkl')\n",
    "scaler = joblib.load('scaler_knn.pkl')\n",
    "le = joblib.load('label_encoder_knn.pkl')\n",
    "test_sample = np.array([[180, 900, 40, 30, 35, 3.0, 6.5, 70, 45, 50, 55, 2.5, 100]])\n",
    "test_sample_scaled = scaler.transform(test_sample)\n",
    "predicted_class = knn.predict(test_sample_scaled)\n",
    "predicted_label = le.inverse_transform(predicted_class)\n",
    "print(\"Test Sample Prediction:\", predicted_label[0])"
   ]
  }
 ],
 "metadata": {
  "kernelspec": {
   "display_name": "Python 3 (ipykernel)",
   "language": "python",
   "name": "python3"
  },
  "language_info": {
   "codemirror_mode": {
    "name": "ipython",
    "version": 3
   },
   "file_extension": ".py",
   "mimetype": "text/x-python",
   "name": "python",
   "nbconvert_exporter": "python",
   "pygments_lexer": "ipython3",
   "version": "3.13.1"
  }
 },
 "nbformat": 4,
 "nbformat_minor": 5
}
